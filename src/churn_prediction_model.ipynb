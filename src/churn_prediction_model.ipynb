{
 "cells": [
  {
   "cell_type": "markdown",
   "id": "a1b2c3d4",
   "metadata": {},
   "source": [
    "# Customer Churn Prediction - Model Training and Evaluation\n",
    "\n",
    "This notebook contains the complete machine learning pipeline for predicting customer churn."
   ]
  },
  {
   "cell_type": "markdown",
   "id": "a1b2c3d5",
   "metadata": {},
   "source": [
    "## 1. Import Libraries"
   ]
  },
  {
   "cell_type": "code",
   "execution_count": null,
   "id": "import_libs",
   "metadata": {},
   "outputs": [],
   "source": [
    "import pandas as pd\n",
    "import numpy as np\n",
    "import matplotlib.pyplot as plt\n",
    "import seaborn as sns\n",
    "import warnings\n",
    "warnings.filterwarnings('ignore')\n",
    "\n",
    "# Machine Learning Libraries\n",
    "from sklearn.model_selection import train_test_split, cross_val_score, GridSearchCV\n",
    "from sklearn.preprocessing import StandardScaler\n",
    "from sklearn.metrics import (\n",
    "    accuracy_score, precision_score, recall_score, f1_score,\n",
    "    roc_auc_score, confusion_matrix, classification_report, roc_curve\n",
    ")\n",
    "\n",
    "# Models\n",
    "from sklearn.linear_model import LogisticRegression\n",
    "from sklearn.tree import DecisionTreeClassifier\n",
    "from sklearn.ensemble import RandomForestClassifier, GradientBoostingClassifier\n",
    "from sklearn.svm import SVC\n",
    "from xgboost import XGBClassifier\n",
    "\n",
    "import joblib\n",
    "import os\n",
    "\n",
    "# Set style\n",
    "sns.set_style('whitegrid')\n",
    "plt.rcParams['figure.figsize'] = (12, 6)\n",
    "\n",
    "print('Libraries imported successfully!')"
   ]
  },
  {
   "cell_type": "markdown",
   "id": "a1b2c3d6",
   "metadata": {},
   "source": [
    "## 2. Load Preprocessed Data"
   ]
  },
  {
   "cell_type": "code",
   "execution_count": null,
   "id": "load_data",
   "metadata": {},
   "outputs": [],
   "source": [
    "# Load features and target\n",
    "X = pd.read_csv('../data/processed/training.csv', index_col=0)\n",
    "y = pd.read_csv('../data/processed/test.csv', index_col=0)['Exited']\n",
    "\n",
    "print(f\"Features shape: {X.shape}\")\n",
    "print(f\"Target shape: {y.shape}\")\n",
    "print(f\"\\nTarget distribution:\")\n",
    "print(y.value_counts())\n",
    "print(f\"\\nChurn rate: {y.mean()*100:.2f}%\")"
   ]
  },
  {
   "cell_type": "code",
   "execution_count": null,
   "id": "data_info",
   "metadata": {},
   "outputs": [],
   "source": [
    "# Display first few rows\n",
    "print(\"Features:\")\n",
    "print(X.head())\n",
    "print(\"\\nFeature names:\")\n",
    "print(X.columns.tolist())"
   ]
  },
  {
   "cell_type": "markdown",
   "id": "a1b2c3d7",
   "metadata": {},
   "source": [
    "## 3. Split Data into Train and Validation Sets"
   ]
  },
  {
   "cell_type": "code",
   "execution_count": null,
   "id": "split_data",
   "metadata": {},
   "outputs": [],
   "source": [
    "# Split data (80% train, 20% validation)\n",
    "X_train, X_val, y_train, y_val = train_test_split(\n",
    "    X, y, test_size=0.2, random_state=42, stratify=y\n",
    ")\n",
    "\n",
    "print(f\"Training set size: {X_train.shape[0]}\")\n",
    "print(f\"Validation set size: {X_val.shape[0]}\")\n",
    "print(f\"\\nTraining set churn rate: {y_train.mean()*100:.2f}%\")\n",
    "print(f\"Validation set churn rate: {y_val.mean()*100:.2f}%\")"
   ]
  },
  {
   "cell_type": "markdown",
   "id": "a1b2c3d8",
   "metadata": {},
   "source": [
    "## 4. Feature Scaling"
   ]
  },
  {
   "cell_type": "code",
   "execution_count": null,
   "id": "scaling",
   "metadata": {},
   "outputs": [],
   "source": [
    "# Scale features for models that are sensitive to feature scales\n",
    "scaler = StandardScaler()\n",
    "X_train_scaled = scaler.fit_transform(X_train)\n",
    "X_val_scaled = scaler.transform(X_val)\n",
    "\n",
    "print(\"Features scaled successfully!\")"
   ]
  },
  {
   "cell_type": "markdown",
   "id": "a1b2c3d9",
   "metadata": {},
   "source": [
    "## 5. Train Multiple Models"
   ]
  },
  {
   "cell_type": "code",
   "execution_count": null,
   "id": "train_models",
   "metadata": {},
   "outputs": [],
   "source": [
    "# Initialize models\n",
    "models = {\n",
    "    'Logistic Regression': LogisticRegression(random_state=42, max_iter=1000),\n",
    "    'Decision Tree': DecisionTreeClassifier(random_state=42, max_depth=10),\n",
    "    'Random Forest': RandomForestClassifier(n_estimators=100, random_state=42, n_jobs=-1),\n",
    "    'Gradient Boosting': GradientBoostingClassifier(n_estimators=100, random_state=42),\n",
    "    'XGBoost': XGBClassifier(n_estimators=100, random_state=42, eval_metric='logloss')\n",
    "}\n",
    "\n",
    "# Train and evaluate models\n",
    "results = {}\n",
    "trained_models = {}\n",
    "\n",
    "print(\"Training models...\\n\")\n",
    "\n",
    "for name, model in models.items():\n",
    "    print(f\"Training {name}...\")\n",
    "    \n",
    "    # Use scaled data for Logistic Regression, original for tree-based\n",
    "    if 'Logistic' in name:\n",
    "        model.fit(X_train_scaled, y_train)\n",
    "        y_pred = model.predict(X_val_scaled)\n",
    "        y_pred_proba = model.predict_proba(X_val_scaled)[:, 1]\n",
    "    else:\n",
    "        model.fit(X_train, y_train)\n",
    "        y_pred = model.predict(X_val)\n",
    "        y_pred_proba = model.predict_proba(X_val)[:, 1]\n",
    "    \n",
    "    # Calculate metrics\n",
    "    accuracy = accuracy_score(y_val, y_pred)\n",
    "    precision = precision_score(y_val, y_pred)\n",
    "    recall = recall_score(y_val, y_pred)\n",
    "    f1 = f1_score(y_val, y_pred)\n",
    "    roc_auc = roc_auc_score(y_val, y_pred_proba)\n",
    "    \n",
    "    results[name] = {\n",
    "        'Accuracy': accuracy,\n",
    "        'Precision': precision,\n",
    "        'Recall': recall,\n",
    "        'F1-Score': f1,\n",
    "        'ROC-AUC': roc_auc\n",
    "    }\n",
    "    \n",
    "    trained_models[name] = {\n",
    "        'model': model,\n",
    "        'predictions': y_pred,\n",
    "        'probabilities': y_pred_proba\n",
    "    }\n",
    "    \n",
    "    print(f\"  Accuracy: {accuracy:.4f}, ROC-AUC: {roc_auc:.4f}\\n\")\n",
    "\n",
    "print(\"All models trained successfully!\")"
   ]
  },
  {
   "cell_type": "markdown",
   "id": "a1b2c3d10",
   "metadata": {},
   "source": [
    "## 6. Compare Model Performance"
   ]
  },
  {
   "cell_type": "code",
   "execution_count": null,
   "id": "compare_models",
   "metadata": {},
   "outputs": [],
   "source": [
    "# Create comparison dataframe\n",
    "results_df = pd.DataFrame(results).T\n",
    "results_df = results_df.round(4)\n",
    "results_df = results_df.sort_values('ROC-AUC', ascending=False)\n",
    "\n",
    "print(\"Model Performance Comparison:\")\n",
    "print(\"=\"*70)\n",
    "print(results_df)\n",
    "print(\"\\nBest model by ROC-AUC:\", results_df.index[0])"
   ]
  },
  {
   "cell_type": "code",
   "execution_count": null,
   "id": "visualize_comparison",
   "metadata": {},
   "outputs": [],
   "source": [
    "# Visualize model comparison\n",
    "fig, axes = plt.subplots(1, 2, figsize=(16, 6))\n",
    "\n",
    "# Plot 1: All metrics comparison\n",
    "results_df.plot(kind='bar', ax=axes[0])\n",
    "axes[0].set_title('Model Performance Comparison - All Metrics', fontsize=14, fontweight='bold')\n",
    "axes[0].set_xlabel('Model', fontsize=12)\n",
    "axes[0].set_ylabel('Score', fontsize=12)\n",
    "axes[0].legend(loc='lower right')\n",
    "axes[0].set_xticklabels(axes[0].get_xticklabels(), rotation=45, ha='right')\n",
    "axes[0].set_ylim([0, 1])\n",
    "axes[0].grid(True, alpha=0.3)\n",
    "\n",
    "# Plot 2: ROC-AUC comparison\n",
    "results_df['ROC-AUC'].plot(kind='barh', ax=axes[1], color='steelblue')\n",
    "axes[1].set_title('ROC-AUC Score Comparison', fontsize=14, fontweight='bold')\n",
    "axes[1].set_xlabel('ROC-AUC Score', fontsize=12)\n",
    "axes[1].set_ylabel('Model', fontsize=12)\n",
    "axes[1].set_xlim([0.7, 0.9])\n",
    "axes[1].grid(True, alpha=0.3)\n",
    "\n",
    "# Add values on bars\n",
    "for i, v in enumerate(results_df['ROC-AUC']):\n",
    "    axes[1].text(v, i, f' {v:.4f}', va='center')\n",
    "\n",
    "plt.tight_layout()\n",
    "plt.savefig('../results/model_comparison.png', dpi=300, bbox_inches='tight')\n",
    "plt.show()\n",
    "\n",
    "print(\"Model comparison visualization saved!\")"
   ]
  },
  {
   "cell_type": "markdown",
   "id": "a1b2c3d11",
   "metadata": {},
   "source": [
    "## 7. Detailed Analysis of Best Model"
   ]
  },
  {
   "cell_type": "code",
   "execution_count": null,
   "id": "best_model",
   "metadata": {},
   "outputs": [],
   "source": [
    "# Get best model\n",
    "best_model_name = results_df.index[0]\n",
    "best_model_info = trained_models[best_model_name]\n",
    "best_model = best_model_info['model']\n",
    "best_predictions = best_model_info['predictions']\n",
    "best_probabilities = best_model_info['probabilities']\n",
    "\n",
    "print(f\"Best Model: {best_model_name}\")\n",
    "print(\"=\"*70)\n",
    "print(\"\\nDetailed Classification Report:\")\n",
    "print(classification_report(y_val, best_predictions, target_names=['Not Churned', 'Churned']))"
   ]
  },
  {
   "cell_type": "code",
   "execution_count": null,
   "id": "confusion_matrix",
   "metadata": {},
   "outputs": [],
   "source": [
    "# Confusion Matrix\n",
    "cm = confusion_matrix(y_val, best_predictions)\n",
    "\n",
    "plt.figure(figsize=(8, 6))\n",
    "sns.heatmap(cm, annot=True, fmt='d', cmap='Blues', cbar=True,\n",
    "            xticklabels=['Not Churned', 'Churned'],\n",
    "            yticklabels=['Not Churned', 'Churned'])\n",
    "plt.title(f'Confusion Matrix - {best_model_name}', fontsize=14, fontweight='bold')\n",
    "plt.ylabel('Actual', fontsize=12)\n",
    "plt.xlabel('Predicted', fontsize=12)\n",
    "plt.savefig('../results/confusion_matrix.png', dpi=300, bbox_inches='tight')\n",
    "plt.show()\n",
    "\n",
    "print(\"Confusion matrix visualization saved!\")"
   ]
  },
  {
   "cell_type": "code",
   "execution_count": null,
   "id": "roc_curve",
   "metadata": {},
   "outputs": [],
   "source": [
    "# ROC Curve for all models\n",
    "plt.figure(figsize=(10, 8))\n",
    "\n",
    "for name in models.keys():\n",
    "    y_proba = trained_models[name]['probabilities']\n",
    "    fpr, tpr, _ = roc_curve(y_val, y_proba)\n",
    "    auc_score = roc_auc_score(y_val, y_proba)\n",
    "    plt.plot(fpr, tpr, label=f'{name} (AUC = {auc_score:.4f})', linewidth=2)\n",
    "\n",
    "plt.plot([0, 1], [0, 1], 'k--', label='Random Classifier', linewidth=2)\n",
    "plt.xlabel('False Positive Rate', fontsize=12)\n",
    "plt.ylabel('True Positive Rate', fontsize=12)\n",
    "plt.title('ROC Curves - All Models', fontsize=14, fontweight='bold')\n",
    "plt.legend(loc='lower right', fontsize=10)\n",
    "plt.grid(True, alpha=0.3)\n",
    "plt.savefig('../results/roc_curves.png', dpi=300, bbox_inches='tight')\n",
    "plt.show()\n",
    "\n",
    "print(\"ROC curves visualization saved!\")"
   ]
  },
  {
   "cell_type": "markdown",
   "id": "a1b2c3d12",
   "metadata": {},
   "source": [
    "## 8. Feature Importance Analysis"
   ]
  },
  {
   "cell_type": "code",
   "execution_count": null,
   "id": "feature_importance",
   "metadata": {},
   "outputs": [],
   "source": [
    "# Feature importance for tree-based models\n",
    "if hasattr(best_model, 'feature_importances_'):\n",
    "    feature_importance = pd.DataFrame({\n",
    "        'Feature': X.columns,\n",
    "        'Importance': best_model.feature_importances_\n",
    "    }).sort_values('Importance', ascending=False)\n",
    "    \n",
    "    print(\"Top 10 Most Important Features:\")\n",
    "    print(\"=\"*50)\n",
    "    print(feature_importance.head(10).to_string(index=False))\n",
    "    \n",
    "    # Visualize feature importance\n",
    "    plt.figure(figsize=(10, 8))\n",
    "    plt.barh(range(len(feature_importance)), feature_importance['Importance'])\n",
    "    plt.yticks(range(len(feature_importance)), feature_importance['Feature'])\n",
    "    plt.xlabel('Importance', fontsize=12)\n",
    "    plt.ylabel('Feature', fontsize=12)\n",
    "    plt.title(f'Feature Importance - {best_model_name}', fontsize=14, fontweight='bold')\n",
    "    plt.gca().invert_yaxis()\n",
    "    plt.grid(True, alpha=0.3, axis='x')\n",
    "    plt.tight_layout()\n",
    "    plt.savefig('../results/feature_importance.png', dpi=300, bbox_inches='tight')\n",
    "    plt.show()\n",
    "    \n",
    "    print(\"\\nFeature importance visualization saved!\")\n",
    "else:\n",
    "    print(f\"Feature importance not available for {best_model_name}\")"
   ]
  },
  {
   "cell_type": "markdown",
   "id": "a1b2c3d13",
   "metadata": {},
   "source": [
    "## 9. Hyperparameter Tuning for Best Model"
   ]
  },
  {
   "cell_type": "code",
   "execution_count": null,
   "id": "hyperparameter_tuning",
   "metadata": {},
   "outputs": [],
   "source": [
    "# Hyperparameter tuning for the best model\n",
    "print(f\"Performing hyperparameter tuning for {best_model_name}...\\n\")\n",
    "\n",
    "if 'Random Forest' in best_model_name:\n",
    "    param_grid = {\n",
    "        'n_estimators': [100, 200, 300],\n",
    "        'max_depth': [10, 15, 20, None],\n",
    "        'min_samples_split': [2, 5, 10],\n",
    "        'min_samples_leaf': [1, 2, 4]\n",
    "    }\n",
    "    base_model = RandomForestClassifier(random_state=42, n_jobs=-1)\n",
    "    \n",
    "elif 'XGBoost' in best_model_name:\n",
    "    param_grid = {\n",
    "        'n_estimators': [100, 200, 300],\n",
    "        'max_depth': [3, 5, 7],\n",
    "        'learning_rate': [0.01, 0.1, 0.3],\n",
    "        'subsample': [0.8, 0.9, 1.0]\n",
    "    }\n",
    "    base_model = XGBClassifier(random_state=42, eval_metric='logloss')\n",
    "    \n",
    "elif 'Gradient Boosting' in best_model_name:\n",
    "    param_grid = {\n",
    "        'n_estimators': [100, 200, 300],\n",
    "        'max_depth': [3, 5, 7],\n",
    "        'learning_rate': [0.01, 0.1, 0.3],\n",
    "        'subsample': [0.8, 0.9, 1.0]\n",
    "    }\n",
    "    base_model = GradientBoostingClassifier(random_state=42)\n",
    "else:\n",
    "    param_grid = None\n",
    "    print(\"Skipping hyperparameter tuning for this model type.\")\n",
    "\n",
    "if param_grid:\n",
    "    grid_search = GridSearchCV(\n",
    "        base_model, param_grid, cv=3, scoring='roc_auc',\n",
    "        n_jobs=-1, verbose=1\n",
    "    )\n",
    "    grid_search.fit(X_train, y_train)\n",
    "    \n",
    "    print(f\"\\nBest parameters: {grid_search.best_params_}\")\n",
    "    print(f\"Best cross-validation ROC-AUC: {grid_search.best_score_:.4f}\")\n",
    "    \n",
    "    # Evaluate tuned model\n",
    "    tuned_model = grid_search.best_estimator_\n",
    "    y_pred_tuned = tuned_model.predict(X_val)\n",
    "    y_proba_tuned = tuned_model.predict_proba(X_val)[:, 1]\n",
    "    \n",
    "    print(f\"\\nTuned Model Performance on Validation Set:\")\n",
    "    print(f\"  Accuracy: {accuracy_score(y_val, y_pred_tuned):.4f}\")\n",
    "    print(f\"  ROC-AUC: {roc_auc_score(y_val, y_proba_tuned):.4f}\")\n",
    "    print(f\"  F1-Score: {f1_score(y_val, y_pred_tuned):.4f}\")\n",
    "    \n",
    "    # Update best model if tuned model is better\n",
    "    if roc_auc_score(y_val, y_proba_tuned) > roc_auc_score(y_val, best_probabilities):\n",
    "        best_model = tuned_model\n",
    "        print(\"\\n✓ Tuned model performs better! Using tuned model as final model.\")\n",
    "    else:\n",
    "        print(\"\\n✓ Original model performs better. Keeping original model.\")"
   ]
  },
  {
   "cell_type": "markdown",
   "id": "a1b2c3d14",
   "metadata": {},
   "source": [
    "## 10. Save Final Model and Scaler"
   ]
  },
  {
   "cell_type": "code",
   "execution_count": null,
   "id": "save_model",
   "metadata": {},
   "outputs": [],
   "source": [
    "# Create models directory if it doesn't exist\n",
    "os.makedirs('../models', exist_ok=True)\n",
    "\n",
    "# Save the best model\n",
    "joblib.dump(best_model, '../models/best_churn_model.pkl')\n",
    "joblib.dump(scaler, '../models/scaler.pkl')\n",
    "\n",
    "# Save model metadata\n",
    "model_info = {\n",
    "    'model_name': best_model_name,\n",
    "    'features': X.columns.tolist(),\n",
    "    'performance': results[best_model_name],\n",
    "    'training_date': pd.Timestamp.now().strftime('%Y-%m-%d %H:%M:%S')\n",
    "}\n",
    "\n",
    "import json\n",
    "with open('../models/model_info.json', 'w') as f:\n",
    "    json.dump(model_info, f, indent=4)\n",
    "\n",
    "print(\"✓ Model saved successfully!\")\n",
    "print(f\"  - Model file: ../models/best_churn_model.pkl\")\n",
    "print(f\"  - Scaler file: ../models/scaler.pkl\")\n",
    "print(f\"  - Model info: ../models/model_info.json\")"
   ]
  },
  {
   "cell_type": "markdown",
   "id": "a1b2c3d15",
   "metadata": {},
   "source": [
    "## 11. Generate Final Report"
   ]
  },
  {
   "cell_type": "code",
   "execution_count": null,
   "id": "final_report",
   "metadata": {},
   "outputs": [],
   "source": [
    "print(\"=\"*70)\n",
    "print(\"CUSTOMER CHURN PREDICTION - FINAL REPORT\")\n",
    "print(\"=\"*70)\n",
    "print(f\"\\nDataset Information:\")\n",
    "print(f\"  - Total samples: {len(X)}\")\n",
    "print(f\"  - Number of features: {X.shape[1]}\")\n",
    "print(f\"  - Churn rate: {y.mean()*100:.2f}%\")\n",
    "print(f\"\\nData Split:\")\n",
    "print(f\"  - Training samples: {len(X_train)} ({len(X_train)/len(X)*100:.1f}%)\")\n",
    "print(f\"  - Validation samples: {len(X_val)} ({len(X_val)/len(X)*100:.1f}%)\")\n",
    "print(f\"\\nModels Evaluated: {len(models)}\")\n",
    "for model_name in models.keys():\n",
    "    print(f\"  - {model_name}\")\n",
    "print(f\"\\nBest Model: {best_model_name}\")\n",
    "print(f\"\\nPerformance Metrics (Validation Set):\")\n",
    "for metric, value in results[best_model_name].items():\n",
    "    print(f\"  - {metric}: {value:.4f}\")\n",
    "print(f\"\\nFiles Generated:\")\n",
    "print(f\"  - Model: models/best_churn_model.pkl\")\n",
    "print(f\"  - Scaler: models/scaler.pkl\")\n",
    "print(f\"  - Model info: models/model_info.json\")\n",
    "print(f\"  - Visualizations: results/\")\n",
    "print(\"=\"*70)\n",
    "print(\"\\n✓ Customer Churn Prediction Project Completed Successfully!\")"
   ]
  }
 ],
 "metadata": {
  "kernelspec": {
   "display_name": "Python 3",
   "language": "python",
   "name": "python3"
  },
  "language_info": {
   "codemirror_mode": {
    "name": "ipython",
    "version": 3
   },
   "file_extension": ".py",
   "mimetype": "text/x-python",
   "name": "python",
   "nbconvert_exporter": "python",
   "pygments_lexer": "ipython3",
   "version": "3.8.0"
  }
 },
 "nbformat": 4,
 "nbformat_minor": 5
}
